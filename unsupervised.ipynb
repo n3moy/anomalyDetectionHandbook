{
 "cells": [
  {
   "cell_type": "code",
   "execution_count": 1,
   "metadata": {},
   "outputs": [],
   "source": [
    "import warnings\n",
    "warnings.filterwarnings(\"ignore\")\n",
    "\n",
    "import pandas as pd\n",
    "import numpy as np\n",
    "\n",
    "from sklearn.metrics import precision_score, recall_score, roc_auc_score"
   ]
  },
  {
   "cell_type": "code",
   "execution_count": 2,
   "metadata": {},
   "outputs": [],
   "source": [
    "data = pd.read_csv(\"data\\\\ML-MATT-CompetitionQT2021_train.csv\", sep=\";\")"
   ]
  },
  {
   "cell_type": "code",
   "execution_count": 3,
   "metadata": {},
   "outputs": [
    {
     "data": {
      "text/html": [
       "<div>\n",
       "<style scoped>\n",
       "    .dataframe tbody tr th:only-of-type {\n",
       "        vertical-align: middle;\n",
       "    }\n",
       "\n",
       "    .dataframe tbody tr th {\n",
       "        vertical-align: top;\n",
       "    }\n",
       "\n",
       "    .dataframe thead th {\n",
       "        text-align: right;\n",
       "    }\n",
       "</style>\n",
       "<table border=\"1\" class=\"dataframe\">\n",
       "  <thead>\n",
       "    <tr style=\"text-align: right;\">\n",
       "      <th></th>\n",
       "      <th>Time</th>\n",
       "      <th>CellName</th>\n",
       "      <th>PRBUsageUL</th>\n",
       "      <th>PRBUsageDL</th>\n",
       "      <th>meanThr_DL</th>\n",
       "      <th>meanThr_UL</th>\n",
       "      <th>maxThr_DL</th>\n",
       "      <th>maxThr_UL</th>\n",
       "      <th>meanUE_DL</th>\n",
       "      <th>meanUE_UL</th>\n",
       "      <th>maxUE_DL</th>\n",
       "      <th>maxUE_UL</th>\n",
       "      <th>maxUE_UL+DL</th>\n",
       "      <th>Unusual</th>\n",
       "    </tr>\n",
       "  </thead>\n",
       "  <tbody>\n",
       "    <tr>\n",
       "      <th>0</th>\n",
       "      <td>10:45</td>\n",
       "      <td>3BLTE</td>\n",
       "      <td>12.3848</td>\n",
       "      <td>1.4019</td>\n",
       "      <td>0.3927</td>\n",
       "      <td>0.0438</td>\n",
       "      <td>16.6522</td>\n",
       "      <td>0.6806</td>\n",
       "      <td>1.1293</td>\n",
       "      <td>1.0491</td>\n",
       "      <td>5</td>\n",
       "      <td>3</td>\n",
       "      <td>8</td>\n",
       "      <td>1</td>\n",
       "    </tr>\n",
       "    <tr>\n",
       "      <th>1</th>\n",
       "      <td>9:45</td>\n",
       "      <td>1BLTE</td>\n",
       "      <td>22.0438</td>\n",
       "      <td>2.0016</td>\n",
       "      <td>0.5620</td>\n",
       "      <td>0.2697</td>\n",
       "      <td>10.3994</td>\n",
       "      <td>1.1771</td>\n",
       "      <td>1.4480</td>\n",
       "      <td>1.1630</td>\n",
       "      <td>6</td>\n",
       "      <td>5</td>\n",
       "      <td>11</td>\n",
       "      <td>1</td>\n",
       "    </tr>\n",
       "    <tr>\n",
       "      <th>2</th>\n",
       "      <td>7:45</td>\n",
       "      <td>9BLTE</td>\n",
       "      <td>0.5105</td>\n",
       "      <td>0.4258</td>\n",
       "      <td>0.0152</td>\n",
       "      <td>0.0106</td>\n",
       "      <td>0.2755</td>\n",
       "      <td>0.1685</td>\n",
       "      <td>1.0379</td>\n",
       "      <td>1.0535</td>\n",
       "      <td>1</td>\n",
       "      <td>2</td>\n",
       "      <td>3</td>\n",
       "      <td>1</td>\n",
       "    </tr>\n",
       "    <tr>\n",
       "      <th>3</th>\n",
       "      <td>2:45</td>\n",
       "      <td>4ALTE</td>\n",
       "      <td>1.9963</td>\n",
       "      <td>1.1513</td>\n",
       "      <td>0.9908</td>\n",
       "      <td>0.0245</td>\n",
       "      <td>64.7465</td>\n",
       "      <td>0.8747</td>\n",
       "      <td>1.0766</td>\n",
       "      <td>1.0526</td>\n",
       "      <td>3</td>\n",
       "      <td>2</td>\n",
       "      <td>5</td>\n",
       "      <td>1</td>\n",
       "    </tr>\n",
       "    <tr>\n",
       "      <th>4</th>\n",
       "      <td>3:30</td>\n",
       "      <td>10BLTE</td>\n",
       "      <td>0.3030</td>\n",
       "      <td>0.4040</td>\n",
       "      <td>0.0160</td>\n",
       "      <td>0.0130</td>\n",
       "      <td>0.3480</td>\n",
       "      <td>0.1680</td>\n",
       "      <td>1.0110</td>\n",
       "      <td>1.0110</td>\n",
       "      <td>2</td>\n",
       "      <td>1</td>\n",
       "      <td>3</td>\n",
       "      <td>0</td>\n",
       "    </tr>\n",
       "  </tbody>\n",
       "</table>\n",
       "</div>"
      ],
      "text/plain": [
       "    Time CellName  PRBUsageUL  PRBUsageDL  meanThr_DL  meanThr_UL  maxThr_DL  \\\n",
       "0  10:45    3BLTE     12.3848      1.4019      0.3927      0.0438    16.6522   \n",
       "1   9:45    1BLTE     22.0438      2.0016      0.5620      0.2697    10.3994   \n",
       "2   7:45    9BLTE      0.5105      0.4258      0.0152      0.0106     0.2755   \n",
       "3   2:45    4ALTE      1.9963      1.1513      0.9908      0.0245    64.7465   \n",
       "4   3:30   10BLTE      0.3030      0.4040      0.0160      0.0130     0.3480   \n",
       "\n",
       "   maxThr_UL  meanUE_DL  meanUE_UL  maxUE_DL  maxUE_UL  maxUE_UL+DL  Unusual  \n",
       "0     0.6806     1.1293     1.0491         5         3            8        1  \n",
       "1     1.1771     1.4480     1.1630         6         5           11        1  \n",
       "2     0.1685     1.0379     1.0535         1         2            3        1  \n",
       "3     0.8747     1.0766     1.0526         3         2            5        1  \n",
       "4     0.1680     1.0110     1.0110         2         1            3        0  "
      ]
     },
     "execution_count": 3,
     "metadata": {},
     "output_type": "execute_result"
    }
   ],
   "source": [
    "data.head()"
   ]
  },
  {
   "cell_type": "code",
   "execution_count": 4,
   "metadata": {},
   "outputs": [],
   "source": [
    "data[[\"hour\", \"minute\"]] = data[\"Time\"].str.split(\":\", expand=True).astype(int)\n",
    "data[\"morning\"] = ((data[\"hour\"] >= 6 ) & (data[\"hour\"] < 11)).astype(int)\n",
    "data[\"afternoon\"] = ((data[\"hour\"] >= 11 ) | (data[\"hour\"] < 1)).astype(int)\n",
    "data[\"night\"] = ((data[\"hour\"] >= 1 ) & (data[\"hour\"] < 6)).astype(int)"
   ]
  },
  {
   "cell_type": "code",
   "execution_count": 5,
   "metadata": {},
   "outputs": [],
   "source": [
    "X, y = data.drop(columns=[\"Unusual\"]), data[\"Unusual\"]"
   ]
  },
  {
   "cell_type": "markdown",
   "metadata": {},
   "source": [
    "### Statistics approach"
   ]
  },
  {
   "cell_type": "code",
   "execution_count": 6,
   "metadata": {},
   "outputs": [],
   "source": [
    "def sigma3_outlier_detector(input_data, cols, treshhold):\n",
    "    cells = input_data[\"CellName\"].unique()\n",
    "    times = [\"morning\", \"afternoon\", \"night\"]\n",
    "    data = input_data[cols + [\"CellName\", \"morning\", \"afternoon\", \"night\"]]\n",
    "    out_data = input_data.copy()\n",
    "    out_data[\"prediction\"] = np.nan\n",
    "    for time in times:\n",
    "        # For different parts of day different metrics\n",
    "        time_data = data[data[time] == 1]\n",
    "        for cell in cells:\n",
    "            cell_data = time_data.query(\"CellName == @cell\")[cols]\n",
    "            cell_data = np.log1p(cell_data)\n",
    "            preds = (np.abs(cell_data - cell_data.mean()) / cell_data.std() > treshhold).any(axis=1).astype(int)\n",
    "\n",
    "            out_data.at[preds.index, \"prediction\"] = preds\n",
    "\n",
    "    return out_data"
   ]
  },
  {
   "cell_type": "code",
   "execution_count": 7,
   "metadata": {},
   "outputs": [],
   "source": [
    "# pred_cols = [\"PRBUsageUL\", \"PRBUsageDL\", \"meanThr_DL\", \"meanThr_UL\", \"maxThr_DL\", \"maxThr_UL\", \"meanUE_DL\", \"meanUE_UL\"]\n",
    "pred_cols = [\"PRBUsageUL\"]\n",
    "# pred_cols = [\"PRBUsageUL\", \"PRBUsageDL\", \"meanThr_DL\", \"meanThr_UL\", \"meanUE_DL\", \"meanUE_UL\"]\n",
    "treshhold = 3"
   ]
  },
  {
   "cell_type": "code",
   "execution_count": 8,
   "metadata": {},
   "outputs": [],
   "source": [
    "sigma3_preds = sigma3_outlier_detector(X, pred_cols, treshhold)"
   ]
  },
  {
   "cell_type": "code",
   "execution_count": 9,
   "metadata": {},
   "outputs": [
    {
     "data": {
      "text/plain": [
       "0.0    36688\n",
       "1.0      216\n",
       "Name: prediction, dtype: int64"
      ]
     },
     "execution_count": 9,
     "metadata": {},
     "output_type": "execute_result"
    }
   ],
   "source": [
    "sigma3_preds[\"prediction\"].value_counts()"
   ]
  },
  {
   "cell_type": "code",
   "execution_count": 10,
   "metadata": {},
   "outputs": [
    {
     "data": {
      "text/plain": [
       "(0.19444444444444445, 0.004124521260925071, 0.49880639445778935)"
      ]
     },
     "execution_count": 10,
     "metadata": {},
     "output_type": "execute_result"
    }
   ],
   "source": [
    "precision_score(y, sigma3_preds[\"prediction\"]), recall_score(y, sigma3_preds[\"prediction\"]), roc_auc_score(y, sigma3_preds[\"prediction\"])"
   ]
  },
  {
   "cell_type": "code",
   "execution_count": 11,
   "metadata": {},
   "outputs": [],
   "source": [
    "def modified_sigma_detector(input_data, cols, treshhold):\n",
    "    cells = input_data[\"CellName\"].unique()\n",
    "    times = [\"morning\", \"afternoon\", \"night\"]\n",
    "    data = input_data[cols + [\"CellName\", \"morning\", \"afternoon\", \"night\"]]\n",
    "    out_data = input_data.copy()\n",
    "    out_data[\"prediction\"] = np.nan\n",
    "    for time in times:\n",
    "        # For different parts of day different metrics\n",
    "        time_data = data[data[time] == 1]\n",
    "        for cell in cells:\n",
    "            cell_data = time_data.query(\"CellName == @cell\")[cols]\n",
    "            cell_data = np.log1p(cell_data)\n",
    "            median_data = cell_data.median()\n",
    "            mad_data = np.median(np.abs(cell_data - median_data))\n",
    "            preds = ((cell_data - median_data) / mad_data  > treshhold).any(axis=1).astype(int)\n",
    "\n",
    "            out_data.at[preds.index, \"prediction\"] = preds\n",
    "\n",
    "    return out_data"
   ]
  },
  {
   "cell_type": "code",
   "execution_count": 12,
   "metadata": {},
   "outputs": [],
   "source": [
    "sigma_m_preds = modified_sigma_detector(X, pred_cols, treshhold)"
   ]
  },
  {
   "cell_type": "code",
   "execution_count": 13,
   "metadata": {},
   "outputs": [
    {
     "data": {
      "text/plain": [
       "0.0    35371\n",
       "1.0     1533\n",
       "Name: prediction, dtype: int64"
      ]
     },
     "execution_count": 13,
     "metadata": {},
     "output_type": "execute_result"
    }
   ],
   "source": [
    "sigma_m_preds[\"prediction\"].value_counts()"
   ]
  },
  {
   "cell_type": "code",
   "execution_count": 14,
   "metadata": {},
   "outputs": [
    {
     "data": {
      "text/plain": [
       "(0.2700587084148728, 0.04065599528626142, 0.4993894100154222)"
      ]
     },
     "execution_count": 14,
     "metadata": {},
     "output_type": "execute_result"
    }
   ],
   "source": [
    "precision_score(y, sigma_m_preds[\"prediction\"]), recall_score(y, sigma_m_preds[\"prediction\"]), roc_auc_score(y, sigma_m_preds[\"prediction\"])"
   ]
  },
  {
   "cell_type": "code",
   "execution_count": null,
   "metadata": {},
   "outputs": [],
   "source": []
  }
 ],
 "metadata": {
  "kernelspec": {
   "display_name": "Python 3.9.6 64-bit",
   "language": "python",
   "name": "python3"
  },
  "language_info": {
   "codemirror_mode": {
    "name": "ipython",
    "version": 3
   },
   "file_extension": ".py",
   "mimetype": "text/x-python",
   "name": "python",
   "nbconvert_exporter": "python",
   "pygments_lexer": "ipython3",
   "version": "3.9.6"
  },
  "orig_nbformat": 4,
  "vscode": {
   "interpreter": {
    "hash": "52634da84371cba311ea128a5ea7cdc41ff074b781779e754b270ff9f8153cee"
   }
  }
 },
 "nbformat": 4,
 "nbformat_minor": 2
}
